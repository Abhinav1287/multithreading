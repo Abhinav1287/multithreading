{
  "nbformat": 4,
  "nbformat_minor": 0,
  "metadata": {
    "colab": {
      "provenance": [],
      "authorship_tag": "ABX9TyMJSQtL8INAfj8sHYl/klKr",
      "include_colab_link": true
    },
    "kernelspec": {
      "name": "python3",
      "display_name": "Python 3"
    },
    "language_info": {
      "name": "python"
    }
  },
  "cells": [
    {
      "cell_type": "markdown",
      "metadata": {
        "id": "view-in-github",
        "colab_type": "text"
      },
      "source": [
        "<a href=\"https://colab.research.google.com/github/Abhinav1287/multithreading/blob/main/Multithreading.ipynb\" target=\"_parent\"><img src=\"https://colab.research.google.com/assets/colab-badge.svg\" alt=\"Open In Colab\"/></a>"
      ]
    },
    {
      "cell_type": "code",
      "execution_count": null,
      "metadata": {
        "id": "O0Y7JTFd-R86"
      },
      "outputs": [],
      "source": [
        "import threading\n",
        "import numpy as np\n",
        "import time\n",
        "import matplotlib.pyplot as plt\n",
        "import os\n",
        "\n",
        "# Function to perform matrix multiplication\n",
        "def multiply_matrices(result, constant_matrix):\n",
        "    start_time = time.time()\n",
        "    result_matrix = np.dot(result, constant_matrix)\n",
        "    end_time = time.time() - start_time\n",
        "    return end_time\n",
        "\n",
        "# Generate random matrices\n",
        "num_matrices = 100\n",
        "matrix_size = 1000\n",
        "constant_matrix = np.random.rand(matrix_size, matrix_size)\n",
        "\n",
        "# Number of threads to use\n",
        "activeThreads = os.cpu_count() # Get the number of CPU threads\n",
        "\n",
        "# Lists to store data for plotting\n",
        "num_threads_list = []\n",
        "execution_time_list = []\n",
        "\n",
        "# Perform matrix multiplication with different number of threads\n",
        "print(\"Number of CPU threads:\", activeThreads)\n",
        "print(\"{:<15} {:<15}\".format(\"Num Threads\", \"Execution Time (seconds)\"))\n",
        "for num_threads in range(1, activeThreads + 1):\n",
        "    threads = []\n",
        "    start_time = time.time()\n",
        "    for _ in range(num_matrices):\n",
        "        result_matrix = np.random.rand(matrix_size, matrix_size)\n",
        "        thread = threading.Thread(target=multiply_matrices, args=(result_matrix, constant_matrix))\n",
        "        threads.append(thread)\n",
        "        thread.start()\n",
        "\n",
        "    # Wait for all threads to finish\n",
        "    for thread in threads:\n",
        "        thread.join()\n",
        "\n",
        "    end_time = time.time() - start_time\n",
        "\n",
        "    # Store data for plotting\n",
        "    num_threads_list.append(num_threads)\n",
        "    execution_time_list.append(end_time)\n",
        "\n",
        "    # Print results in tabular format\n",
        "    print(\"{:<15} {:<15.2f}\".format(num_threads, end_time))\n",
        "\n",
        "# Plot execution time vs. number of threads\n",
        "plt.plot(num_threads_list, execution_time_list, marker='o')\n",
        "plt.title('Execution Time vs. Number of Threads')\n",
        "plt.xlabel('Number of Threads')\n",
        "plt.ylabel('Execution Time (seconds)')\n",
        "plt.grid(True)\n",
        "plt.show()\n"
      ]
    }
  ]
}